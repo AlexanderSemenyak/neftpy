{
 "cells": [
  {
   "cell_type": "code",
   "execution_count": 1,
   "metadata": {},
   "outputs": [],
   "source": [
    "import sys \n",
    "#sys.path.append('..')\n",
    "import neftpy.upvt_oil as pvt\n",
    "import neftpy.uconvert as uc"
   ]
  },
  {
   "cell_type": "code",
   "execution_count": 2,
   "metadata": {},
   "outputs": [],
   "source": [
    "import matplotlib.pyplot as plt\n",
    "import numpy as np\n",
    "import scipy.constants as const\n",
    "from sympy import *\n",
    "init_printing()"
   ]
  },
  {
   "cell_type": "markdown",
   "metadata": {},
   "source": [
    "# Объемный коэффициент нефти\n",
    "\n",
    "## Корреляция при давлении выше давления насыщения\n",
    "\n",
    "Корреляция для объемного коэффициента нефти при давлении выше давления насыщения в некоторых источниках указывается, что она принадлежит Стендингу, в некоторых Vasquez & Beggs. На самом деле это не корреляция, так как природа ее происхождения не статистическая, а вполне себе физическое уравнение.\n",
    "\n",
    "$$ B_o = B_{ob} \\cdot \\exp(c_o(p_b - p)) $$\n",
    "\n",
    "где:\n",
    "\n",
    "$ B_o $ - объемный коэффициент нефти при давлении p, м3/м3\n",
    "\n",
    "$ B_{ob} $ - объемный коэффициент нефти при давлении насыщения, м3/м3\n",
    "\n",
    "$ c_o $ - сжимаемость нефти, 1/МПа\n",
    "\n",
    "$ P $ - давление, МПа\n",
    "\n",
    "$ P_b $ - давление насыщения, МПа\n"
   ]
  },
  {
   "cell_type": "markdown",
   "metadata": {},
   "source": [
    "### Корреляция Маккейна при давлении меньше или равном давлению насыщения\n",
    "\n",
    "Уравнение выводится из материального баланса и не является корреляцией.\n",
    "\n",
    "$$ b_o = \\left( \\frac{ \\rho_{STO} + 0.01357 R_s \\gamma_g}{\\rho_{or}}\\right) $$\n",
    "\n",
    "где:\n",
    "\n",
    "$ b_o $ - объемный коэффициент нефти при давлении $P$, м3/м3\n",
    "\n",
    "$ \\rho_{STO} $ - плотность дегазированной нефти, фунт/фт3 (кг/м3)\n",
    "\n",
    "$ R_s $ - газосодержание при давлении p, фт3/баррель (м3/м3)\n",
    "\n",
    "$ \\gamma_g $ - плотность газа относительно воздуха\n",
    "\n",
    "$ \\rho_{or} $ - плотность пластовой нефти, фунт/фт3 (кг/м3)\n",
    "\n",
    "#### Внутри функции уже реализован перевод величин, единицы измерения в скобках - входные параметры в функцию"
   ]
  },
  {
   "cell_type": "code",
   "execution_count": 27,
   "metadata": {},
   "outputs": [
    {
     "name": "stdout",
     "output_type": "stream",
     "text": [
      "исходное выражение\n"
     ]
    },
    {
     "data": {
      "image/png": "[encoded data removed]",
      "text/latex": [
       "$\\displaystyle b_{o} = \\frac{0.01357 \\gamma_{g} r_{s[scfstb]} + \\rho_{sto[lbft3]}}{\\rho_{or[lbft3]}}$"
      ],
      "text/plain": [
       "     0.01357⋅γ_g⋅r_s[scfstb] + ρ_sto[lbft3]\n",
       "bₒ = ──────────────────────────────────────\n",
       "                  ρ_or[lbft3]              "
      ]
     },
     "metadata": {},
     "output_type": "display_data"
    },
    {
     "name": "stdout",
     "output_type": "stream",
     "text": [
      "коэффициенты преобразования\n"
     ]
    },
    {
     "data": {
      "image/png": "[encoded data removed]",
      "text/latex": [
       "$\\displaystyle r_{s[scfstb]} = 5.61458333333333 r_{s[m3m3]}$"
      ],
      "text/plain": [
       "r_s[scfstb] = 5.61458333333333⋅r_s[m3m3]"
      ]
     },
     "metadata": {},
     "output_type": "display_data"
    },
    {
     "data": {
      "image/png": "[encoded data removed]",
      "text/latex": [
       "$\\displaystyle \\rho_{sto[lbft3]} = 0.0624279605761446 \\rho_{sto[kgm3]}$"
      ],
      "text/plain": [
       "ρ_sto[lbft3] = 0.0624279605761446⋅ρ_sto[kgm3]"
      ]
     },
     "metadata": {},
     "output_type": "display_data"
    },
    {
     "name": "stdout",
     "output_type": "stream",
     "text": [
      "преобразованное выражение\n"
     ]
    },
    {
     "data": {
      "image/png": "[encoded data removed]",
      "text/latex": [
       "$\\displaystyle b_{o} = \\frac{1.22044505587209 \\gamma_{g} r_{s[m3m3]} + 1.0 \\rho_{sto[kgm3]}}{\\rho_{or[kgm3]}}$"
      ],
      "text/plain": [
       "     1.22044505587209⋅γ_g⋅r_s[m3m3] + 1.0⋅ρ_sto[kgm3]\n",
       "bₒ = ────────────────────────────────────────────────\n",
       "                        ρ_or[kgm3]                   "
      ]
     },
     "metadata": {},
     "output_type": "display_data"
    }
   ],
   "source": [
    "# объявления переменных необходимых для преобразования единиц в вырожении\n",
    "b_o = symbols('b_o')\n",
    "rho_sto_lbft3, rho_or_lbft3 = symbols('rho_sto[lbft3] rho_or[lbft3]')\n",
    "rs_scfstb, gamma_g = symbols('r_s[scfstb] gamma_g')\n",
    "rs_m3m3 = symbols('r_s[m3m3]')\n",
    "rho_sto_kgm3, rho_or_kgm3 = symbols('rho_sto[kgm3] rho_or[kgm3]')\n",
    "\n",
    "# определение алгоритма расчета в американских промысловых единицах\n",
    "eq1 = Eq(b_o, (rho_sto_lbft3 + 0.01357 * rs_scfstb * gamma_g)/rho_or_lbft3)\n",
    "# покажем выражения в печатном виде\n",
    "print('исходное выражение')\n",
    "display(eq1)\n",
    "\n",
    "# выражения для преобразования единиц измерения из американских промысловых в практические метрические\n",
    "# для работы с коэффициентами преобразования используем модуль neftpy.uconvert \n",
    "scfstb_to_m3m3 = rs_m3m3 * uc.m3m3_2_scfstb(1)\n",
    "sto_lbft3_to_kgm3 = rho_sto_kgm3 * uc.kgm3_2_lbft3(1)\n",
    "or_lbft3_to_kgm3 = rho_or_kgm3 * uc.kgm3_2_lbft3(1)\n",
    "\n",
    "# покажем выражения в печатном виде\n",
    "print('коэффициенты преобразования')\n",
    "display(Eq(rs_scfstb , scfstb_to_m3m3))\n",
    "display(Eq(rho_sto_lbft3 , sto_lbft3_to_kgm3))\n",
    "\n",
    "# преобразование алгоритма в метрические единицы с использованием символьных вычислений\n",
    "eq1_m = simplify(eq1.subs(rs_scfstb, scfstb_to_m3m3)\n",
    "                    .subs(rho_sto_lbft3, sto_lbft3_to_kgm3)\n",
    "                    .subs(rho_or_lbft3, or_lbft3_to_kgm3)\n",
    "                )\n",
    "# вывод результатов преобразований\n",
    "print('преобразованное выражение')\n",
    "display(eq1_m)"
   ]
  },
  {
   "cell_type": "markdown",
   "metadata": {},
   "source": [
    "# Список литературы\n",
    "\n",
    "1. \"A Pressure-Volume-Temperature Correlation for Mixtures of California Oil and Gases\", M.B. Standing, Drill. & Prod. Prac., API, 1947.\n",
    "2. \"Correlation of Black Oil Properties at Pressures Below Bubblepoint Pressure—A New Approach\",\n",
    "    J. VELARDE, T.A. BLASINGAME Texas A&M University, W.D. MCCAIN, JR. S.A. Holditch & Associates, Inc 1999\n",
    "3. \"Reservoir oil bubblepoint pressures revisited; solution gas–oil ratios and surface gas specific gravities\",\n",
    "    J. VELARDE, W.D. MCCAIN, 2002"
   ]
  },
  {
   "cell_type": "code",
   "execution_count": null,
   "metadata": {},
   "outputs": [],
   "source": []
  }
 ],
 "metadata": {
  "kernelspec": {
   "display_name": ".venv",
   "language": "python",
   "name": "python3"
  },
  "language_info": {
   "codemirror_mode": {
    "name": "ipython",
    "version": 3
   },
   "file_extension": ".py",
   "mimetype": "text/x-python",
   "name": "python",
   "nbconvert_exporter": "python",
   "pygments_lexer": "ipython3",
   "version": "3.12.5"
  }
 },
 "nbformat": 4,
 "nbformat_minor": 4
}
