{
 "cells": [
  {
   "cell_type": "markdown",
   "id": "02fcc168",
   "metadata": {},
   "source": [
    "расчет по корреляции Беггса Брилла\n",
    "\n",
    "на выходе нужна одна функция, которая считала бы градиент давления и необходимые дополнительные данные"
   ]
  },
  {
   "cell_type": "code",
   "execution_count": 2,
   "id": "ba3d604a",
   "metadata": {},
   "outputs": [],
   "source": [
    "import numpy as np"
   ]
  },
  {
   "cell_type": "markdown",
   "id": "5885d9bd",
   "metadata": {},
   "source": [
    "Описание метода расчета Беггса Брилла"
   ]
  },
  {
   "cell_type": "code",
   "execution_count": 8,
   "id": "7475f886",
   "metadata": {},
   "outputs": [],
   "source": [
    "def _npy_friction_factor_Zigrang_Sylvester(n_Re, ed):\n",
    "    #calculate friction factor for rough pipes according to Moody method - Payne et all modification for Beggs&Brill correlation\n",
    "    # Zigrang and Sylvester  1982  https://en.wikipedia.org/wiki/Darcy_friction_factor_formulae\n",
    "    f_n = (2 * np.log10(2 / 3.7 * ed - 5.02 / n_Re * np.log10(2 / 3.7 * ed + 13 / n_Re)))**-2\n",
    "    return f_n\n",
    "        \n",
    "def _npy_friction_factor_Zigrang_Sylvester_refined(n_Re, ed):\n",
    "    f_n = _npy_friction_factor_Zigrang_Sylvester(n_Re, ed)\n",
    "    i = 0\n",
    "    while True: \n",
    "        # iterate until error in friction factor is sufficiently small\n",
    "        # https://en.wikipedia.org/wiki/Darcy_friction_factor_formulae\n",
    "        # expanded form  of the Colebrook equation\n",
    "        f_n_new = (1.7384 - 2 * np.log10(2 * ed + 18.574 / (n_Re * f_n ** 0.5))) ** -2\n",
    "        i += 1\n",
    "        f_int = f_n\n",
    "        f_n = f_n_new\n",
    "        #stop when error is sufficiently small or max number of iterations exceedied\n",
    "        if (np.abs(f_n_new - f_int) <= 0.001 or i > 19):\n",
    "            break\n",
    "    return f_n\n",
    "\n",
    "def _npy_friction_factor_Drew(n_Re, ed):\n",
    "    #Calculate friction factor for smooth pipes using Drew correlation - original Begs&Brill with no modification\n",
    "    return  0.0056 + 0.5 * n_Re ** -0.32\n",
    "     \n",
    "\n",
    "def _npy_friction_factor_Brkic(n_Re, ed):\n",
    "\n",
    "    # Brkic shows one approximation of the Colebrook equation based on the Lambert W-function\n",
    "    # Brkic, Dejan (2011). \"An Explicit Approximation of Colebrook's equation for fluid flow friction factor\" (PDF). \n",
    "    # Petroleum Science and Technology. 29 (15): 1596–1602. doi:10.1080/10916461003620453\n",
    "    # http://hal.archives-ouvertes.fr/hal-01586167/file/article.pdf\n",
    "    # https://en.wikipedia.org/wiki/Darcy_friction_factor_formulae\n",
    "    # http://www.math.bas.bg/infres/MathBalk/MB-26/MB-26-285-292.pdf\n",
    "    Svar = np.log(n_Re / (1.816 * np.log(1.1 * n_Re / (np.log(1 + 1.1 * n_Re)))))\n",
    "    f_1 = -2 * np.log10(ed / 3.71 + 2 * Svar / n_Re)\n",
    "    f_n = 1 / (f_1 ** 2)\n",
    "    return f_n\n",
    "\n",
    "\n",
    "def _npy_friction_factor_Haaland(n_Re, ed):\n",
    "\n",
    "    # from unified TUFFP model\n",
    "    # Haaland equation   Haaland, SE (1983). \"Simple and Explicit Formulas for the Friction Factor in Turbulent Flow\". \n",
    "    # Journal of Fluids Engineering. 105 (1): 89–90. doi:10.1115/1.3240948\n",
    "\n",
    "    f_n = 4 / (3.6 * np.log10(6.9 / n_Re + (ed / 3.7) ** 1.11)) ** 2\n",
    "    return f_n\n",
    "\n",
    "def npy_friction_factor(n_re, \n",
    "                        roughness_d, \n",
    "                        friction_corr = \"Brkic\", \n",
    "                        smoth_transition = False):\n",
    "    \"\"\"\n",
    "    Calculates friction factor given pipe relative roughness and Reinolds number\n",
    "    Parameters\n",
    "    n_re - Reinolds number\n",
    "    roughness_d - pipe relative roughness\n",
    "    friction_corr_type - flag indicating correlation type selection\n",
    "     0 - Colebrook equation solution\n",
    "     1 - Drew correlation for smooth pipes\n",
    "    \"\"\"\n",
    "\n",
    "    friction_func_options = {\"Zigrang_Sylvester\":_npy_friction_factor_Zigrang_Sylvester,\n",
    "                             \"Haaland\":_npy_friction_factor_Haaland,\n",
    "                             \"Brkic\":_npy_friction_factor_Brkic,\n",
    "                             \"Drew\":_npy_friction_factor_Drew}\n",
    "    \n",
    "    lower_Re_lim = 2000\n",
    "    upper_Re_lim = 4000\n",
    "    \n",
    "    ed = roughness_d\n",
    "    \n",
    "    if n_re == 0: \n",
    "        f_n = 0\n",
    "    elif n_re <= lower_Re_lim:  #laminar flow\n",
    "        f_n = 64 / n_re\n",
    "    else:                      #turbulent flow\n",
    "        Re_save = -1\n",
    "        if smoth_transition and (n_re > lower_Re_lim and n_re < upper_Re_lim):\n",
    "        # be ready to interpolate for smooth transition\n",
    "            Re_save = n_re\n",
    "            n_re = upper_Re_lim\n",
    "        \n",
    "        f_n = friction_func_options[friction_corr](n_re, ed)\n",
    "\n",
    "\n",
    "        if smoth_transition and Re_save > 0 :\n",
    "            x1 = lower_Re_lim\n",
    "            y1 = 64 / lower_Re_lim\n",
    "            x2 = n_re\n",
    "            y2 = f_n\n",
    "            f_n = ((y2 - y1) * Re_save + (y1 * x2 - y2 * x1)) / (x2 - x1)\n",
    "    \n",
    "    return  f_n\n",
    "\n",
    "\n",
    "def npy_friction_factor_old(n_re, \n",
    "                        roughness_d, \n",
    "                        friction_corr_type = 3, \n",
    "                        smoth_transition = False):\n",
    "    \"\"\"\n",
    "    Calculates friction factor given pipe relative roughness and Reinolds number\n",
    "    Parameters\n",
    "    n_re - Reinolds number\n",
    "    roughness_d - pipe relative roughness\n",
    "    friction_corr_type - flag indicating correlation type selection\n",
    "     0 - Colebrook equation solution\n",
    "     1 - Drew correlation for smooth pipes\n",
    "    \"\"\"\n",
    "    \n",
    "    lower_Re_lim = 2000\n",
    "    upper_Re_lim = 4000\n",
    "    \n",
    "    ed = roughness_d\n",
    "    \n",
    "    if n_re == 0: \n",
    "        f_n = 0\n",
    "    elif n_re <= lower_Re_lim:  #laminar flow\n",
    "        f_n = 64 / n_re\n",
    "    else:                      #turbulent flow\n",
    "        Re_save = -1\n",
    "        if smoth_transition and (n_re > lower_Re_lim and n_re < upper_Re_lim):\n",
    "        # be ready to interpolate for smooth transition\n",
    "            Re_save = n_re\n",
    "            n_re = upper_Re_lim\n",
    "        \n",
    "        if friction_corr_type == 0:\n",
    "                #calculate friction factor for rough pipes according to Moody method - Payne et all modification for Beggs&Brill correlation\n",
    "                # Zigrang and Sylvester  1982  https://en.wikipedia.org/wiki/Darcy_friction_factor_formulae\n",
    "                f_n = (2 * np.log10(2 / 3.7 * ed - 5.02 / n_re * np.log10(2 / 3.7 * ed + 13 / n_re)))**-2\n",
    "                  \n",
    "                i = 0\n",
    "                while True: \n",
    "                    # iterate until error in friction factor is sufficiently small\n",
    "                    # https://en.wikipedia.org/wiki/Darcy_friction_factor_formulae\n",
    "                    # expanded form  of the Colebrook equation\n",
    "                    f_n_new = (1.7384 - 2 * np.log10(2 * ed + 18.574 / (n_re * f_n ** 0.5))) ** -2\n",
    "                    i += 1\n",
    "                    f_int = f_n\n",
    "                    f_n = f_n_new\n",
    "                    #stop when error is sufficiently small or max number of iterations exceedied\n",
    "                    if (np.abs(f_n_new - f_int) <= 0.001 or i > 19):\n",
    "                        break\n",
    "        elif friction_corr_type == 1:\n",
    "                #Calculate friction factor for smooth pipes using Drew correlation - original Begs&Brill with no modification\n",
    "                f_n = 0.0056 + 0.5 * n_re ** -0.32\n",
    "            \n",
    "        elif friction_corr_type == 2:\n",
    "                # Zigrang and Sylvester  1982  https://en.wikipedia.org/wiki/Darcy_friction_factor_formulae\n",
    "                f_n = (2 * np.log10(1 / 3.7 * ed - 5.02 / n_re * np.log10(1 / 3.7 * ed + 13 / n_re))) ** -2\n",
    "        elif friction_corr_type == 3:\n",
    "                # Brkic shows one approximation of the Colebrook equation based on the Lambert W-function\n",
    "                #  Brkic, Dejan (2011). \"An Explicit Approximation of Colebrook's equation for fluid flow friction factor\" (PDF). Petroleum Science and Technology. 29 (15): 1596–1602. doi:10.1080/10916461003620453\n",
    "                # http://hal.archives-ouvertes.fr/hal-01586167/file/article.pdf\n",
    "                # https://en.wikipedia.org/wiki/Darcy_friction_factor_formulae\n",
    "                # http://www.math.bas.bg/infres/MathBalk/MB-26/MB-26-285-292.pdf\n",
    "                Svar = np.log(n_re / (1.816 * np.log(1.1 * n_re / (np.log(1 + 1.1 * n_re)))))\n",
    "                f_1 = -2 * np.log10(ed / 3.71 + 2 * Svar / n_re)\n",
    "                f_n = 1 / (f_1 ** 2)\n",
    "        elif friction_corr_type == 4:\n",
    "                # from unified TUFFP model\n",
    "                # Haaland equation   Haaland, SE (1983). \"Simple and Explicit Formulas for the Friction Factor in Turbulent Flow\". Journal of Fluids Engineering. 105 (1): 89–90. doi:10.1115/1.3240948\n",
    "                # with smooth transition zone\n",
    "                \n",
    "                fr2 = 16 / 2000\n",
    "                fr3 = 1 / (3.6 * np.log10(6.9 / 3000 + (ed / 3.7) ** 1.11)) ** 2\n",
    "                if n_re == 0:\n",
    "                    f_n = 0\n",
    "                elif (n_re < 2000):\n",
    "                    f_n = 16 / n_re\n",
    "                elif (n_re > 3000):\n",
    "                    f_n = 1 / (3.6 * np.log10(6.9 / n_re + (ed / 3.7) ** 1.11)) ** 2\n",
    "                elif (n_re >= 2000 and n_re <= 3000):\n",
    "                    f_n = fr2 + (fr3 - fr2) * (n_re - 2000) / 1000\n",
    "                \n",
    "                f_n = 4 * f_n\n",
    "        elif friction_corr_type == 5:\n",
    "                # from unified TUFFP model\n",
    "                # Haaland equation   Haaland, SE (1983). \"Simple and Explicit Formulas for the Friction Factor in Turbulent Flow\". Journal of Fluids Engineering. 105 (1): 89–90. doi:10.1115/1.3240948\n",
    "\n",
    "                f_n = 4 / (3.6 * np.log10(6.9 / n_re + (ed / 3.7) ** 1.11)) ** 2\n",
    "\n",
    "        if smoth_transition and Re_save > 0 :\n",
    "            x1 = lower_Re_lim\n",
    "            y1 = 64 / lower_Re_lim\n",
    "            x2 = n_re\n",
    "            y2 = f_n\n",
    "            f_n = ((y2 - y1) * Re_save + (y1 * x2 - y2 * x1)) / (x2 - x1)\n",
    "    \n",
    "    return  f_n\n"
   ]
  },
  {
   "cell_type": "code",
   "execution_count": 10,
   "id": "9430224c",
   "metadata": {},
   "outputs": [],
   "source": [
    "\n",
    "def npy_friction_factor(n_re, roughness_d, friction_corr=\"Brkic\", smooth_transition=False):\n",
    "    \"\"\"\n",
    "    Calculates friction factor given pipe relative roughness and Reynolds number.\n",
    "    \n",
    "    Parameters:\n",
    "        n_re (numpy.ndarray): Array of Reynolds numbers.\n",
    "        roughness_d (numpy.ndarray): Array of pipe relative roughness values.\n",
    "        friction_corr (str): Correlation type selection.\n",
    "            \"Zigrang_Sylvester\", \"Haaland\", \"Brkic\", \"Drew\"\n",
    "        smooth_transition (bool): Flag indicating if a smooth transition should be applied between laminar and turbulent flow regions.\n",
    "    \"\"\"\n",
    "    \n",
    "    # Define the correlation functions\n",
    "    friction_func_options = {\n",
    "        \"Zigrang_Sylvester\": _npy_friction_factor_Zigrang_Sylvester,\n",
    "        \"Haaland\": _npy_friction_factor_Haaland,\n",
    "        \"Brkic\": _npy_friction_factor_Brkic,\n",
    "        \"Drew\": _npy_friction_factor_Drew\n",
    "    }\n",
    "    \n",
    "    # Define the transition limits\n",
    "    lower_Re_lim = 2000.0\n",
    "    upper_Re_lim = 4000.0\n",
    "    \n",
    "    # Ensure n_re and roughness_d are numpy arrays\n",
    "    n_re = np.asarray(n_re)\n",
    "    roughness_d = np.asarray(roughness_d)\n",
    "    \n",
    "    # Initialize the friction factor array\n",
    "    f_n = np.zeros_like(n_re, dtype=float)\n",
    "    \n",
    "    # Handle laminar flow (Re <= lower_Re_lim)\n",
    "    laminar_mask = n_re <= lower_Re_lim\n",
    "    f_n[laminar_mask] = 64 / n_re[laminar_mask]\n",
    "    \n",
    "    # Handle turbulent flow (Re > lower_Re_lim)\n",
    "    turbulent_mask = n_re > lower_Re_lim\n",
    "    \n",
    "    if smooth_transition:\n",
    "        # Smooth transition between laminar and turbulent regions\n",
    "        Re_save = np.where((n_re > lower_Re_lim) & (n_re < upper_Re_lim), n_re, -1)\n",
    "        \n",
    "        # Use the upper limit for calculation in the transitional region\n",
    "        n_re[turbulent_mask] = np.maximum(n_re[turbulent_mask], upper_Re_lim)\n",
    "    \n",
    "    # Calculate friction factor using the selected correlation\n",
    "    f_n[turbulent_mask] = friction_func_options[friction_corr](n_re[turbulent_mask], roughness_d[turbulent_mask])\n",
    "    \n",
    "    if smooth_transition:\n",
    "        # Interpolate for smooth transition\n",
    "        x1, y1 = lower_Re_lim, 64 / lower_Re_lim\n",
    "        x2, y2 = n_re[turbulent_mask], f_n[turbulent_mask]\n",
    "        interpolation_factor = np.where(Re_save > 0, (y2 - y1) * Re_save + (y1 * x2 - y2 * x1) / (x2 - x1), 1)\n",
    "        f_n[turbulent_mask] *= interpolation_factor\n",
    "    \n",
    "    return f_n"
   ]
  },
  {
   "cell_type": "code",
   "execution_count": 11,
   "id": "dbc5648c",
   "metadata": {},
   "outputs": [
    {
     "data": {
      "text/plain": [
       "np.float64(0.1065172498633954)"
      ]
     },
     "execution_count": 11,
     "metadata": {},
     "output_type": "execute_result"
    }
   ],
   "source": [
    "npy_friction_factor_old(5000, 0.1)"
   ]
  },
  {
   "cell_type": "code",
   "execution_count": 12,
   "id": "703de3a7",
   "metadata": {},
   "outputs": [
    {
     "data": {
      "text/plain": [
       "np.float64(0.1065172498633954)"
      ]
     },
     "execution_count": 12,
     "metadata": {},
     "output_type": "execute_result"
    }
   ],
   "source": [
    "_npy_friction_factor_Brkic(5000, 0.1)"
   ]
  },
  {
   "cell_type": "code",
   "execution_count": 13,
   "id": "de3b0725",
   "metadata": {},
   "outputs": [
    {
     "data": {
      "text/plain": [
       "array(0.10651725)"
      ]
     },
     "execution_count": 13,
     "metadata": {},
     "output_type": "execute_result"
    }
   ],
   "source": [
    "npy_friction_factor(5000, 0.1)"
   ]
  },
  {
   "cell_type": "code",
   "execution_count": null,
   "id": "e28ea94d",
   "metadata": {},
   "outputs": [],
   "source": [
    "def hl_arr_theta_deg(fl_pat, lambda_l, n_fr, n_lv, arr_theta_deg, Payne_et_all):\n",
    "    \"\"\" \n",
    "    function calculating liquid holdup for Beggs Brill gradient function\n",
    "    fl_pat - flow pattern (0 -Segregated, 1 - Intermittent, 2 - Distributed)\n",
    "    lambda_l - volume fraction of liquid at no-slip conditions\n",
    "    n_fr - Froude number\n",
    "    n_lv - liquid velocity number\n",
    "    arr_theta_deg - pipe inclination angle, (Degrees)\n",
    "    payne_et_all - flag indicationg weather to applied Payne et all correction for holdup (0 - not applied, 1 - applied)\n",
    "    Constants to determine liquid holdup\n",
    "\n",
    "    \"\"\"\n",
    "   \n",
    "    #constants to determine liquid holdup correction\n",
    "    a = (0.98,   0.845,  1.065)    # flow pattern - segregated\n",
    "    b = (0.4846, 0.5351, 0.5824)    # flow pattern - intermittent\n",
    "    c = (0.0868, 0.0173, 0.0609)    # flow pattern - distributed\n",
    "    e = (0.011,  2.96,   1.,   4.700)    # flow pattern - segregated uphill\n",
    "    f = (-3.768, 0.305,  0,   -0.3692)    # flow pattern - segregated\n",
    "    g = (3.539, -0.4473, 0,    0.1244)    # flow pattern - segregated\n",
    "    h = (-1.614, 0.0978, 0,   -0.5056)    # flow pattern - segregated\n",
    "           \n",
    "    h_l_0 = a[fl_pat] * lambda_l**b[fl_pat] / n_fr**c[fl_pat] #calculate liquid holdup at no slip conditions\n",
    "    arr_theta_deg_d = np.pi / 180 * arr_theta_deg #convert angle to radians\n",
    "    if np.sin(arr_theta_deg_d) < 0:\n",
    "        fl_pat = 3\n",
    "        \n",
    "    CC = np.maximum(0, \n",
    "                    (1 - lambda_l)**np.log(e[fl_pat] * lambda_l**f[fl_pat] * n_lv**g[fl_pat] * n_fr**h[fl_pat])) #calculate correction for inclination angle\n",
    "    \n",
    "    \n",
    "    psi = 1 + CC * (np.sin(1.8 * arr_theta_deg_d) - 0.333 * (np.sin(1.8 * arr_theta_deg_d)) ** 3)  #corrected sign by issue #37\n",
    "    #calculate liquid holdup with payne et al. correction factor\n",
    "    \n",
    "    Payne_corr = 1.\n",
    "    if Payne_et_all > 0:\n",
    "        if arr_theta_deg > 0: #uphill flow\n",
    "            Payne_corr = 0.924\n",
    "        else:                 #downhill flow\n",
    "            Payne_corr = 0.685\n",
    "    return np.maximum(np.minimum(1, Payne_corr * h_l_0 * psi), lambda_l)\n",
    "\n",
    "\n",
    "def npy_Begs_Brill_gradient(arr_d_m, \n",
    "                          arr_theta_deg,\n",
    "                          eps_m , \n",
    "                          ql_rc_m3day,\n",
    "                          qg_rc_m3day,\n",
    "                          mul_rc_cP,\n",
    "                          mug_rc_cP,\n",
    "                          sigma_l_Nm,\n",
    "                          rho_lrc_kgm3,\n",
    "                          rho_grc_kgm3,\n",
    "                          Payne_et_all_holdup = 0,\n",
    "                          Payne_et_all_friction = 1, \n",
    "                          calibr_grav = 1,\n",
    "                          calibr_fric = 1):\n",
    "    '''\n",
    "    function for calculation of pressure gradient in pipe according to Begs and Brill method\n",
    "    Return (atma/m)\n",
    "\n",
    "    Arguments\n",
    "    arr_d_m - pipe internal diameter (m)\n",
    "    arr_theta_deg - pipe inclination angel (degrees)\n",
    "    eps_m - pipe wall roughness (m)\n",
    "    ql_rc_m3day - liquid rate in situ conditions (m3/day)\n",
    "    qg_rc_m3day - gas rate in situ conditions (m3/day)\n",
    "    mul_rc_cP - oil viscosity at reference pressure (cP)\n",
    "    mug_rc_cP - gas viscosity at reference pressure (cP)\n",
    "    sigma_l_Nm - oil-gAs surface tension coefficient (Newton/m)\n",
    "    rho_lrc_kgm3 - oil density in situ conditions (kg/m3)\n",
    "    rho_grc_kgm3 - gas density in situ conditions (kg/m3)\n",
    "\n",
    "    Payne_et_all_holdup - flag indicationg weather to applied Payne et all correction and holdup (0 - not applied, 1 - applied)\n",
    "    Payne_et_all_friction - flag indicationg weather to apply Payne et all correction for friction (0 - not applied, 1 - applied)  obsolete\n",
    "\n",
    "    calibr_grav\n",
    "    calibr_fric\n",
    "    '''    \n",
    "    c_p = 0.000009871668   # переводной коэффициент\n",
    "    const_convert_sec_day = 1 / 86400\n",
    "    const_g = 9.81\n",
    "\n",
    "    ap_m2 = np.pi * arr_d_m ** 2 / 4\n",
    "    \n",
    "    lambda_l = ql_rc_m3day / (ql_rc_m3day + qg_rc_m3day)\n",
    "    roughness_d = eps_m / arr_d_m\n",
    "    \n",
    "    vsl_msec = const_convert_sec_day * ql_rc_m3day / ap_m2\n",
    "    vsg_msec = const_convert_sec_day * qg_rc_m3day / ap_m2\n",
    "    vsm_msec = vsl_msec + vsg_msec\n",
    "    \n",
    "    rho_n_kgm3 = rho_lrc_kgm3 * lambda_l + rho_grc_kgm3 * (1 - lambda_l) # No-slip mixture density\n",
    "    mu_n_cP = mul_rc_cP * lambda_l + mug_rc_cP * (1 - lambda_l) # No slip mixture viscosity\n",
    "    \n",
    "    n_re = 1000 * rho_n_kgm3 * vsm_msec * arr_d_m / mu_n_cP\n",
    "    \n",
    "    n_fr = vsm_msec ** 2 / (const_g * arr_d_m)\n",
    "    n_lv = vsl_msec * (rho_lrc_kgm3 / (const_g * sigma_l_Nm)) ** 0.25\n",
    "\n",
    "    #-----------------------------------------------------------------------\n",
    "    #determine flow pattern\n",
    "    if (n_fr >= 316 * lambda_l ** 0.302 or n_fr >= 0.5 * lambda_l ** -6.738): \n",
    "        flow_pattern = 2\n",
    "    else:\n",
    "        if (n_fr <= 0.000925 * lambda_l ** -2.468): \n",
    "            flow_pattern = 0\n",
    "        else:\n",
    "            if (n_fr <= 0.1 * lambda_l ** -1.452):\n",
    "                flow_pattern = 3\n",
    "            else:\n",
    "                flow_pattern = 1\n",
    "    #-----------------------------------------------------------------------\n",
    "    #determine liquid holdup\n",
    "    if (flow_pattern == 0 or flow_pattern == 1 or flow_pattern == 2):\n",
    "        hl_out_fr = hl_arr_theta_deg(flow_pattern, lambda_l, n_fr, n_lv, arr_theta_deg, Payne_et_all_holdup)\n",
    "    else:\n",
    "        l_2 = 0.000925 * lambda_l ** -2.468\n",
    "        l_3 = 0.1 * lambda_l ** -1.452\n",
    "        aa = (l_3 - n_fr) / (l_3 - l_2)\n",
    "        hl_out_fr = (aa * hl_arr_theta_deg(0, lambda_l, n_fr, n_lv, arr_theta_deg, Payne_et_all_holdup) + \n",
    "                  (1 - aa) * hl_arr_theta_deg(1, lambda_l, n_fr, n_lv, arr_theta_deg, Payne_et_all_holdup))\n",
    "\n",
    "    # Calculate normalized friction factor\n",
    "    f_n = npy_friction_factor(n_re, roughness_d)\n",
    "    # calculate friction factor correction for multiphase flow\n",
    "    y = np.maximum(lambda_l / hl_out_fr ** 2, 0.000001)\n",
    "    if (y > 1 and y < 1.2):\n",
    "        s = np.log(2.2 * y - 1.2)\n",
    "    else:\n",
    "        FY = np.maximum(np.log(y), 0.000001)\n",
    "        s = FY / (-0.0523 + 3.182 * FY - 0.8725 * FY ** 2 + 0.01853 * FY ** 4)\n",
    "    #calculate friction factor\n",
    "    f = f_n * np.exp(s)\n",
    "    \n",
    "    \n",
    "    rho_s = rho_lrc_kgm3 * hl_out_fr + rho_grc_kgm3 * (1 - hl_out_fr) #calculate mixture density\n",
    "    dPdLg_out_atmm = c_p * rho_s * const_g * np.sin(arr_theta_deg / 180 * np.pi) #calculate pressure gradient due to gravity\n",
    "    dPdLf_out_atmm = c_p * f * rho_n_kgm3 * vsm_msec ** 2 / (2 * arr_d_m)  #calculate pressure gradient due to friction\n",
    "    dPdLa_out_atmm = 0  #calculate pressure gradient ' not acounted in BeggsBrill\n",
    "    fpat_out_num = flow_pattern\n",
    "    \n",
    "    #return  dPdLg_out_atmm * calibr_grav + dPdLf_out_atmm * calibr_fric\n",
    "    return  (dPdLg_out_atmm * calibr_grav + dPdLf_out_atmm * calibr_fric, \n",
    "            dPdLg_out_atmm * calibr_grav, \n",
    "            dPdLf_out_atmm * calibr_fric, \n",
    "            dPdLa_out_atmm, \n",
    "            vsl_msec, \n",
    "            vsg_msec, \n",
    "            hl_out_fr, \n",
    "            fpat_out_num)\n",
    "    "
   ]
  },
  {
   "cell_type": "code",
   "execution_count": 4,
   "id": "66918124",
   "metadata": {},
   "outputs": [
    {
     "name": "stdout",
     "output_type": "stream",
     "text": [
      "(np.float64(0.03519006583777442), np.float64(0.035091188981492646), np.float64(9.887685628177268e-05), 0, 0.1533461894360575, 0.3833654735901437, np.float64(0.5902733938196266), 3)\n"
     ]
    }
   ],
   "source": [
    "diam_m = 0.062\n",
    "theta = 90\n",
    "eps_m = 0.00001\n",
    "Ql_rc_m3day = 40\n",
    "Qg_rc_m3day = 100\n",
    "Mul_rc_cP = 0.6\n",
    "Mug_rc_cP = 3.00E-02\n",
    "sigma_l_Nm = 2.50E-01\n",
    "rho_lrc_kgm3 = 600\n",
    "rho_grc_kgm3 = 20\n",
    "p_atma = 100\n",
    "\n",
    "print(npy_Begs_Brill_gradient(diam_m, theta, eps_m, Ql_rc_m3day, Qg_rc_m3day, Mul_rc_cP, Mug_rc_cP, sigma_l_Nm, rho_lrc_kgm3, rho_grc_kgm3))\n"
   ]
  },
  {
   "cell_type": "markdown",
   "id": "a8032a88",
   "metadata": {},
   "source": [
    "# Коэффициент трения\n",
    "\n",
    "Проверим, что считается по коэффициенту трения"
   ]
  },
  {
   "cell_type": "code",
   "execution_count": 14,
   "id": "d71cb5db",
   "metadata": {},
   "outputs": [],
   "source": [
    "import matplotlib.pyplot as plt"
   ]
  },
  {
   "cell_type": "code",
   "execution_count": 16,
   "id": "79606925",
   "metadata": {},
   "outputs": [],
   "source": [
    "npy_fr = np.vectorize(npy_friction_factor)"
   ]
  },
  {
   "cell_type": "code",
   "execution_count": 19,
   "id": "2e19e5d3",
   "metadata": {},
   "outputs": [],
   "source": [
    "npy_fr = npy_friction_factor"
   ]
  },
  {
   "cell_type": "code",
   "execution_count": 20,
   "id": "8369603f",
   "metadata": {},
   "outputs": [],
   "source": [
    "ed = 0.0001\n",
    "nre = 1000\n",
    "fr = npy_fr(nre, ed)"
   ]
  },
  {
   "cell_type": "code",
   "execution_count": 28,
   "id": "960f3312",
   "metadata": {},
   "outputs": [],
   "source": [
    "nre = np.linspace(100, 1000000, 3)\n",
    "edl = np.array([0.0001, 0.01, 0.1])"
   ]
  },
  {
   "cell_type": "code",
   "execution_count": 29,
   "id": "535b731d",
   "metadata": {},
   "outputs": [
    {
     "data": {
      "text/plain": [
       "array([1.0000e+02, 5.0005e+05, 1.0000e+06])"
      ]
     },
     "execution_count": 29,
     "metadata": {},
     "output_type": "execute_result"
    }
   ],
   "source": [
    "nre"
   ]
  },
  {
   "cell_type": "code",
   "execution_count": 30,
   "id": "df29dc22",
   "metadata": {},
   "outputs": [
    {
     "ename": "IndexError",
     "evalue": "too many indices for array: array is 0-dimensional, but 1 were indexed",
     "output_type": "error",
     "traceback": [
      "\u001b[1;31m---------------------------------------------------------------------------\u001b[0m",
      "\u001b[1;31mIndexError\u001b[0m                                Traceback (most recent call last)",
      "Cell \u001b[1;32mIn[30], line 1\u001b[0m\n\u001b[1;32m----> 1\u001b[0m \u001b[43mnpy_fr\u001b[49m\u001b[43m(\u001b[49m\u001b[43mnre\u001b[49m\u001b[43m,\u001b[49m\u001b[43m \u001b[49m\u001b[43med\u001b[49m\u001b[43m \u001b[49m\u001b[43m)\u001b[49m\n",
      "Cell \u001b[1;32mIn[10], line 47\u001b[0m, in \u001b[0;36mnpy_friction_factor\u001b[1;34m(n_re, roughness_d, friction_corr, smooth_transition)\u001b[0m\n\u001b[0;32m     44\u001b[0m     n_re[turbulent_mask] \u001b[38;5;241m=\u001b[39m np\u001b[38;5;241m.\u001b[39mmaximum(n_re[turbulent_mask], upper_Re_lim)\n\u001b[0;32m     46\u001b[0m \u001b[38;5;66;03m# Calculate friction factor using the selected correlation\u001b[39;00m\n\u001b[1;32m---> 47\u001b[0m f_n[turbulent_mask] \u001b[38;5;241m=\u001b[39m friction_func_options[friction_corr](n_re[turbulent_mask], \u001b[43mroughness_d\u001b[49m\u001b[43m[\u001b[49m\u001b[43mturbulent_mask\u001b[49m\u001b[43m]\u001b[49m)\n\u001b[0;32m     49\u001b[0m \u001b[38;5;28;01mif\u001b[39;00m smooth_transition:\n\u001b[0;32m     50\u001b[0m     \u001b[38;5;66;03m# Interpolate for smooth transition\u001b[39;00m\n\u001b[0;32m     51\u001b[0m     x1, y1 \u001b[38;5;241m=\u001b[39m lower_Re_lim, \u001b[38;5;241m64\u001b[39m \u001b[38;5;241m/\u001b[39m lower_Re_lim\n",
      "\u001b[1;31mIndexError\u001b[0m: too many indices for array: array is 0-dimensional, but 1 were indexed"
     ]
    }
   ],
   "source": [
    "npy_fr(nre, ed )"
   ]
  },
  {
   "cell_type": "code",
   "execution_count": null,
   "id": "8a3425f1",
   "metadata": {},
   "outputs": [],
   "source": []
  },
  {
   "cell_type": "code",
   "execution_count": null,
   "id": "463eb1bb",
   "metadata": {},
   "outputs": [
    {
     "ename": "KeyError",
     "evalue": "0",
     "output_type": "error",
     "traceback": [
      "\u001b[1;31m---------------------------------------------------------------------------\u001b[0m",
      "\u001b[1;31mKeyError\u001b[0m                                  Traceback (most recent call last)",
      "Cell \u001b[1;32mIn[21], line 8\u001b[0m\n\u001b[0;32m      5\u001b[0m smooth \u001b[38;5;241m=\u001b[39m \u001b[38;5;28;01mTrue\u001b[39;00m\n\u001b[0;32m      7\u001b[0m \u001b[38;5;28;01mfor\u001b[39;00m ed \u001b[38;5;129;01min\u001b[39;00m edl:\n\u001b[1;32m----> 8\u001b[0m     fr \u001b[38;5;241m=\u001b[39m \u001b[43mnpy_fr\u001b[49m\u001b[43m(\u001b[49m\u001b[43mnre\u001b[49m\u001b[43m,\u001b[49m\u001b[43m \u001b[49m\u001b[43med\u001b[49m\u001b[43m,\u001b[49m\u001b[43m \u001b[49m\u001b[38;5;241;43m0\u001b[39;49m\u001b[43m,\u001b[49m\u001b[43m \u001b[49m\u001b[43msmooth\u001b[49m\u001b[43m)\u001b[49m\n\u001b[0;32m      9\u001b[0m     plt\u001b[38;5;241m.\u001b[39mplot(nre, fr)\n\u001b[0;32m     10\u001b[0m     fr \u001b[38;5;241m=\u001b[39m npy_fr(nre, ed, \u001b[38;5;241m1\u001b[39m, smooth)\n",
      "Cell \u001b[1;32mIn[10], line 47\u001b[0m, in \u001b[0;36mnpy_friction_factor\u001b[1;34m(n_re, roughness_d, friction_corr, smooth_transition)\u001b[0m\n\u001b[0;32m     44\u001b[0m     n_re[turbulent_mask] \u001b[38;5;241m=\u001b[39m np\u001b[38;5;241m.\u001b[39mmaximum(n_re[turbulent_mask], upper_Re_lim)\n\u001b[0;32m     46\u001b[0m \u001b[38;5;66;03m# Calculate friction factor using the selected correlation\u001b[39;00m\n\u001b[1;32m---> 47\u001b[0m f_n[turbulent_mask] \u001b[38;5;241m=\u001b[39m \u001b[43mfriction_func_options\u001b[49m\u001b[43m[\u001b[49m\u001b[43mfriction_corr\u001b[49m\u001b[43m]\u001b[49m(n_re[turbulent_mask], roughness_d[turbulent_mask])\n\u001b[0;32m     49\u001b[0m \u001b[38;5;28;01mif\u001b[39;00m smooth_transition:\n\u001b[0;32m     50\u001b[0m     \u001b[38;5;66;03m# Interpolate for smooth transition\u001b[39;00m\n\u001b[0;32m     51\u001b[0m     x1, y1 \u001b[38;5;241m=\u001b[39m lower_Re_lim, \u001b[38;5;241m64\u001b[39m \u001b[38;5;241m/\u001b[39m lower_Re_lim\n",
      "\u001b[1;31mKeyError\u001b[0m: 0"
     ]
    }
   ],
   "source": [
    "\n",
    "\n",
    "\n",
    "smooth = True\n",
    "\n",
    "for ed in edl:\n",
    "    fr = npy_fr(nre, ed, 0, smooth)\n",
    "    plt.plot(nre, fr)\n",
    "    fr = npy_fr(nre, ed, 1, smooth)\n",
    "    plt.plot(nre, fr)\n",
    "    fr = npy_fr(nre, ed, 2, smooth)\n",
    "    plt.plot(nre, fr)\n",
    "    fr = npy_fr(nre, ed, 3, smooth)\n",
    "    plt.plot(nre, fr)\n",
    "    fr = npy_fr(nre, ed, 4, smooth)\n",
    "    plt.plot(nre, fr)\n",
    "    fr = npy_fr(nre, ed, 5, smooth)\n",
    "    plt.plot(nre, fr)\n",
    "\n",
    "plt.xscale('log')\n",
    "plt.yscale('log')\n",
    "plt.show()"
   ]
  },
  {
   "cell_type": "code",
   "execution_count": 9,
   "id": "8c8e894e",
   "metadata": {},
   "outputs": [
    {
     "data": {
      "image/png": "[encoded data removed]",
      "text/plain": [
       "<Figure size 640x480 with 1 Axes>"
      ]
     },
     "metadata": {},
     "output_type": "display_data"
    }
   ],
   "source": [
    "nre = np.linspace(1000, 4000, 1000)\n",
    "edl = np.array([0.0001, 0.01, 0.1])\n",
    "\n",
    "\n",
    "smooth = True\n",
    "\n",
    "for ed in edl:\n",
    "    fr = npy_fr(nre, ed, 0, smooth)\n",
    "    plt.plot(nre, fr)\n",
    "    fr = npy_fr(nre, ed, 1, smooth)\n",
    "    plt.plot(nre, fr)\n",
    "    fr = npy_fr(nre, ed, 2, smooth)\n",
    "    plt.plot(nre, fr)\n",
    "    fr = npy_fr(nre, ed, 3, smooth)\n",
    "    plt.plot(nre, fr)\n",
    "    fr = npy_fr(nre, ed, 4, smooth)\n",
    "    plt.plot(nre, fr)\n",
    "    fr = npy_fr(nre, ed, 5, smooth)\n",
    "    plt.plot(nre, fr)\n",
    "\n",
    "plt.xscale('log')\n",
    "plt.yscale('log')\n",
    "plt.show()"
   ]
  },
  {
   "cell_type": "markdown",
   "id": "eb79778c",
   "metadata": {},
   "source": [
    "Корреляция Беггса Брилла"
   ]
  },
  {
   "cell_type": "code",
   "execution_count": 10,
   "id": "025516b1",
   "metadata": {},
   "outputs": [],
   "source": [
    "q = np.linspace(1,300, 10)"
   ]
  },
  {
   "cell_type": "code",
   "execution_count": 11,
   "id": "74c7542a",
   "metadata": {},
   "outputs": [
    {
     "name": "stdout",
     "output_type": "stream",
     "text": [
      "(np.float64(0.03519006583777442), np.float64(0.035091188981492646), np.float64(9.887685628177268e-05), 0, 0.1533461894360575, 0.3833654735901437, np.float64(0.5902733938196266), 3)\n"
     ]
    }
   ],
   "source": [
    "diam_m = 0.062\n",
    "theta = 90\n",
    "eps_m = 0.00001\n",
    "Ql_rc_m3day = 40\n",
    "Qg_rc_m3day = 100\n",
    "Mul_rc_cP = 0.6\n",
    "Mug_rc_cP = 3.00E-02\n",
    "sigma_l_Nm = 2.50E-01\n",
    "rho_lrc_kgm3 = 600\n",
    "rho_grc_kgm3 = 20\n",
    "p_atma = 100\n",
    "\n",
    "print(npy_Begs_Brill_gradient(diam_m, theta, eps_m, Ql_rc_m3day, Qg_rc_m3day, Mul_rc_cP, Mug_rc_cP, sigma_l_Nm, rho_lrc_kgm3, rho_grc_kgm3))\n"
   ]
  },
  {
   "cell_type": "code",
   "execution_count": 12,
   "id": "93e344de",
   "metadata": {},
   "outputs": [],
   "source": [
    "bb = np.vectorize(npy_Begs_Brill_gradient)"
   ]
  },
  {
   "cell_type": "code",
   "execution_count": 13,
   "id": "08c3bc91",
   "metadata": {},
   "outputs": [],
   "source": [
    "q = np.linspace(1,500, 100)\n",
    "g = bb(diam_m, theta, eps_m, q, Qg_rc_m3day, Mul_rc_cP, Mug_rc_cP, sigma_l_Nm, rho_lrc_kgm3, rho_grc_kgm3)"
   ]
  },
  {
   "cell_type": "code",
   "execution_count": 14,
   "id": "b6448a4e",
   "metadata": {},
   "outputs": [
    {
     "data": {
      "text/plain": [
       "[<matplotlib.lines.Line2D at 0x1f2b6c7c320>]"
      ]
     },
     "execution_count": 14,
     "metadata": {},
     "output_type": "execute_result"
    },
    {
     "data": {
      "image/png": "[encoded data removed]",
      "text/plain": [
       "<Figure size 640x480 with 1 Axes>"
      ]
     },
     "metadata": {},
     "output_type": "display_data"
    }
   ],
   "source": [
    "q = np.linspace(1,500, 100)\n",
    "\n",
    "theta = -1\n",
    "\n",
    "Qg_rc_m3day = 100\n",
    "g = bb(diam_m, theta, eps_m, q, Qg_rc_m3day, Mul_rc_cP, Mug_rc_cP, sigma_l_Nm, rho_lrc_kgm3, rho_grc_kgm3)\n",
    "plt.plot(q, g[0])\n",
    "\n",
    "\n",
    "Qg_rc_m3day = 200\n",
    "g = bb(diam_m, theta, eps_m, q, Qg_rc_m3day, Mul_rc_cP, Mug_rc_cP, sigma_l_Nm, rho_lrc_kgm3, rho_grc_kgm3)\n",
    "plt.plot(q, g[0])\n",
    "\n",
    "Qg_rc_m3day = 30\n",
    "g = bb(diam_m, theta, eps_m, q, Qg_rc_m3day, Mul_rc_cP, Mug_rc_cP, sigma_l_Nm, rho_lrc_kgm3, rho_grc_kgm3)\n",
    "plt.plot(q, g[0])"
   ]
  }
 ],
 "metadata": {
  "kernelspec": {
   "display_name": ".venv",
   "language": "python",
   "name": "python3"
  },
  "language_info": {
   "codemirror_mode": {
    "name": "ipython",
    "version": 3
   },
   "file_extension": ".py",
   "mimetype": "text/x-python",
   "name": "python",
   "nbconvert_exporter": "python",
   "pygments_lexer": "ipython3",
   "version": "3.12.5"
  }
 },
 "nbformat": 4,
 "nbformat_minor": 5
}
