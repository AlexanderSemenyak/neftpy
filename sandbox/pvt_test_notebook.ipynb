{
 "cells": [
  {
   "cell_type": "markdown",
   "id": "65c07b1e-7347-4833-bab0-3ee16fa808e3",
   "metadata": {},
   "source": [
    "# PVT функции унифлок\n",
    "\n",
    "Низовые расчетные функции, без использования классов.\n",
    "Надо разобраться - какие функции есть, что надо реализовать, что уже сделано."
   ]
  },
  {
   "cell_type": "markdown",
   "id": "f70f8d20-1d78-4016-a47e-970ceb9a2631",
   "metadata": {},
   "source": [
    "Содержание\n",
    "\n",
    "- [Объемный коэффициент газа](#destination)"
   ]
  },
  {
   "cell_type": "markdown",
   "id": "fdec4eb9-ed08-4683-9649-0a9ad9afe397",
   "metadata": {},
   "source": [
    "\n",
    "## Объемный коэффициент газа <a id='destination'></a>\n",
    "\n",
    "### Unifloc VBA\n",
    "```vb.net\n",
    "Function unf_pvt_Bg_z_m3m3(ByVal t_K As Double, _\n",
    "                           ByVal p_MPa As Double, _\n",
    "                           ByVal z As Double) As Double\n",
    "' Расчет объемного коэффициента газа при известном коэффиенте сжимаемости газа\n",
    "' rnt 20150303\n",
    "' хорошо определить при какой температуре рассчитан объемный коэффициент газа\n",
    "   \n",
    "    unf_pvt_Bg_z_m3m3 = 0.00034722 * t_K * z / p_MPa\n",
    "End Function\n",
    "```\n",
    "\n",
    "\n",
    "### python\n",
    "\n",
    "``` python\n",
    "\n",
    "def unf_gas_fvf_m3m3(t_K, p_MPaa, z):\n",
    "    \"\"\"\n",
    "        Equation for gas FVF\n",
    "\n",
    "    :param t_K: temperature, K\n",
    "    :param p_MPaa: pressure, MPaa\n",
    "    :param z: z-factor\n",
    "    :return: formation volume factor for gas bg, m3/m3\n",
    "    \"\"\"\n",
    "\n",
    "    bg = 101.33 * 10**(-3) * t_K * z / (1 * 293.15 * p_MPaa) # тут от нормальный условий по температуре\n",
    "    return bg\n",
    "```"
   ]
  },
  {
   "cell_type": "code",
   "execution_count": 1,
   "id": "dedc6263-30c8-4338-b8f7-29619008654e",
   "metadata": {},
   "outputs": [
    {
     "data": {
      "text/plain": [
       "0.0003456592188299506"
      ]
     },
     "execution_count": 1,
     "metadata": {},
     "output_type": "execute_result"
    }
   ],
   "source": [
    " 101.33 * 10**(-3)  / (1 * 293.15 )"
   ]
  },
  {
   "cell_type": "code",
   "execution_count": 2,
   "id": "7ebb8974-0d57-4eda-976e-bfc3c20fd15e",
   "metadata": {},
   "outputs": [
    {
     "name": "stdout",
     "output_type": "stream",
     "text": [
      "1.2\n"
     ]
    }
   ],
   "source": [
    "\n",
    "\n",
    "\n",
    "import neftpy.upvt as pvt\n",
    "\n",
    "print(pvt.unf_bo_above_pb_m3m3())"
   ]
  },
  {
   "cell_type": "code",
   "execution_count": null,
   "id": "d75276e8-1714-4744-80ab-2120e16be6ef",
   "metadata": {},
   "outputs": [],
   "source": []
  },
  {
   "cell_type": "code",
   "execution_count": 6,
   "id": "5d70551d-d6e8-431b-9af1-9437d48369e3",
   "metadata": {},
   "outputs": [
    {
     "data": {
      "text/plain": [
       "1e-06"
      ]
     },
     "execution_count": 6,
     "metadata": {},
     "output_type": "execute_result"
    }
   ],
   "source": [
    "10**(-6)"
   ]
  },
  {
   "cell_type": "code",
   "execution_count": 7,
   "id": "d1a13ee5-287e-4aa0-83f0-c2658b8e23cd",
   "metadata": {},
   "outputs": [
    {
     "data": {
      "text/plain": [
       "1e-05"
      ]
     },
     "execution_count": 7,
     "metadata": {},
     "output_type": "execute_result"
    }
   ],
   "source": [
    "10e-6"
   ]
  },
  {
   "cell_type": "code",
   "execution_count": 9,
   "id": "0c157190-f974-4cc1-9290-e83a577b5b3b",
   "metadata": {},
   "outputs": [
    {
     "data": {
      "text/plain": [
       "16"
      ]
     },
     "execution_count": 9,
     "metadata": {},
     "output_type": "execute_result"
    }
   ],
   "source": [
    "2**4"
   ]
  },
  {
   "cell_type": "code",
   "execution_count": null,
   "id": "de1e7884-a350-42db-8109-625d9c40b2fe",
   "metadata": {},
   "outputs": [],
   "source": []
  }
 ],
 "metadata": {
  "kernelspec": {
   "display_name": "Python 3 (ipykernel)",
   "language": "python",
   "name": "python3"
  },
  "language_info": {
   "codemirror_mode": {
    "name": "ipython",
    "version": 3
   },
   "file_extension": ".py",
   "mimetype": "text/x-python",
   "name": "python",
   "nbconvert_exporter": "python",
   "pygments_lexer": "ipython3",
   "version": "3.12.3"
  }
 },
 "nbformat": 4,
 "nbformat_minor": 5
}
